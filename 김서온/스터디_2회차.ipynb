{
  "nbformat": 4,
  "nbformat_minor": 0,
  "metadata": {
    "colab": {
      "name": "스터디 1회차",
      "provenance": [],
      "collapsed_sections": [],
      "include_colab_link": true
    },
    "kernelspec": {
      "name": "python3",
      "display_name": "Python 3"
    },
    "language_info": {
      "name": "python"
    }
  },
  "cells": [
    {
      "cell_type": "markdown",
      "metadata": {
        "id": "view-in-github",
        "colab_type": "text"
      },
      "source": [
        "<a href=\"https://colab.research.google.com/github/anfgbwl/python-study/blob/main/%EA%B9%80%EC%84%9C%EC%98%A8/%EC%8A%A4%ED%84%B0%EB%94%94_2%ED%9A%8C%EC%B0%A8.ipynb\" target=\"_parent\"><img src=\"https://colab.research.google.com/assets/colab-badge.svg\" alt=\"Open In Colab\"/></a>"
      ]
    },
    {
      "cell_type": "code",
      "execution_count": 1,
      "metadata": {
        "id": "1usSgr31Sk5h",
        "colab": {
          "base_uri": "https://localhost:8080/"
        },
        "outputId": "d0389549-072e-4f03-deeb-e927ae904067"
      },
      "outputs": [
        {
          "output_type": "stream",
          "name": "stdout",
          "text": [
            "3\n",
            "베고파\n"
          ]
        }
      ],
      "source": [
        "a=1\n",
        "b=2\n",
        "\n",
        "print(a+b)\n",
        "\n",
        "print(\"배고파\")"
      ]
    },
    {
      "cell_type": "markdown",
      "source": [
        "# 안녕\n"
      ],
      "metadata": {
        "id": "iRcLkryfUAz_"
      }
    }
  ]
}