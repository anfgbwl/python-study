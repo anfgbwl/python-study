{
  "nbformat": 4,
  "nbformat_minor": 0,
  "metadata": {
    "colab": {
      "name": "스터디 1회차",
      "provenance": [],
      "collapsed_sections": [],
      "mount_file_id": "1QB026ySswN547lRA6Jq3qOacpuFPR56U",
      "authorship_tag": "ABX9TyOI8fLMFt3bNgxKUArIvGKM",
      "include_colab_link": true
    },
    "kernelspec": {
      "name": "python3",
      "display_name": "Python 3"
    },
    "language_info": {
      "name": "python"
    }
  },
  "cells": [
    {
      "cell_type": "markdown",
      "metadata": {
        "id": "view-in-github",
        "colab_type": "text"
      },
      "source": [
        "<a href=\"https://colab.research.google.com/github/dhrod0325/python-study/blob/test/%EC%98%A4%EA%B2%BD%EC%84%9D/%EC%8A%A4%ED%84%B0%EB%94%94_1%ED%9A%8C%EC%B0%A8.ipynb\" target=\"_parent\"><img src=\"https://colab.research.google.com/assets/colab-badge.svg\" alt=\"Open In Colab\"/></a>"
      ]
    },
    {
      "cell_type": "code",
      "execution_count": null,
      "metadata": {
        "id": "1usSgr31Sk5h",
        "colab": {
          "base_uri": "https://localhost:8080/"
        },
        "outputId": "d1c6abe2-d278-4595-dbf7-f8c166afd422"
      },
      "outputs": [
        {
          "output_type": "stream",
          "name": "stdout",
          "text": [
            "3\n"
          ]
        }
      ],
      "source": [
        "a=1\n",
        "b=2\n",
        "\n",
        "print(a+b)"
      ]
    },
    {
      "cell_type": "markdown",
      "source": [
        "# 안녕\n"
      ],
      "metadata": {
        "id": "iRcLkryfUAz_"
      }
    }
  ]
}